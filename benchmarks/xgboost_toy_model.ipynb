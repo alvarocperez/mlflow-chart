{
 "cells": [
  {
   "cell_type": "code",
   "id": "initial_id",
   "metadata": {
    "collapsed": true,
    "ExecuteTime": {
     "end_time": "2025-05-15T12:54:40.022587Z",
     "start_time": "2025-05-15T12:54:40.017604Z"
    }
   },
   "source": [
    "import os\n",
    "os.environ[\"MLFLOW_TRACKING_URI\"] = \"http://localhost:5000\"\n",
    "os.environ[\"MLFLOW_S3_ENDPOINT_URL\"] = \"http://localhost:9000\"\n",
    "os.environ[\"AWS_ACCESS_KEY_ID\"] = \"mlflow_minio_user\"\n",
    "os.environ[\"AWS_SECRET_ACCESS_KEY\"] = \"mlflow_minio_password\"\n",
    "\n",
    "pip_reqs = [\n",
    "    \"mlflow[mlserver]==2.22.0\",\n",
    "    \"numpy==2.2.5\",\n",
    "    \"pandas==2.2.3\",\n",
    "    \"psutil==7.0.0\",\n",
    "    \"scikit-learn==1.6.1\",\n",
    "    \"scipy==1.15.3\",\n",
    "    \"xgboost==3.0.1\",\n",
    "]\n"
   ],
   "outputs": [],
   "execution_count": 1
  },
  {
   "metadata": {
    "ExecuteTime": {
     "end_time": "2025-05-15T12:54:41.746086Z",
     "start_time": "2025-05-15T12:54:40.026330Z"
    }
   },
   "cell_type": "code",
   "source": [
    "import mlflow.xgboost\n",
    "import xgboost as xgb\n",
    "from sklearn.model_selection import train_test_split\n",
    "from sklearn.datasets import make_classification\n",
    "from sklearn.metrics import accuracy_score\n",
    "import pandas as pd\n",
    "import os\n",
    "\n",
    "\n",
    "print(f\"MLflow Tracking URI: {mlflow.get_tracking_uri()}\")\n",
    "print(f\"MLflow S3 Endpoint URL: {os.getenv('MLFLOW_S3_ENDPOINT_URL')}\")\n",
    "\n",
    "X, y = make_classification(n_samples=200, n_features=5, n_informative=3, n_redundant=0, random_state=42)\n",
    "X_train, X_test, y_train, y_test = train_test_split(X, y, test_size=0.25, random_state=42)\n",
    "\n",
    "feature_names = [f\"feature_{i}\" for i in range(X_train.shape[1])]\n",
    "X_train_df = pd.DataFrame(X_train, columns=feature_names)\n",
    "X_test_df = pd.DataFrame(X_test, columns=feature_names)\n",
    "\n",
    "dtrain = xgb.DMatrix(X_train_df, label=y_train)\n",
    "dtest = xgb.DMatrix(X_test_df, label=y_test)\n",
    "\n",
    "experiment_name = \"XGBoost_Toy_Benchmark\"\n",
    "registered_model_name = \"xgboost-toy-classifier\"\n",
    "\n",
    "try:\n",
    "    experiment = mlflow.set_experiment(experiment_name)\n",
    "    experiment_id = experiment.experiment_id\n",
    "except Exception as e:\n",
    "    print(f\"Error {e}\")\n",
    "    experiment_id = mlflow.get_experiment_by_name(experiment_name).experiment_id\n",
    "\n",
    "print(f\"Using experiment: {experiment_name} (ID: {experiment_id})\")"
   ],
   "id": "59e7afa05cd65f6",
   "outputs": [
    {
     "name": "stdout",
     "output_type": "stream",
     "text": [
      "MLflow Tracking URI: http://localhost:5000\n",
      "MLflow S3 Endpoint URL: http://localhost:9000\n",
      "Using experiment: XGBoost_Toy_Benchmark (ID: 1)\n"
     ]
    }
   ],
   "execution_count": 2
  },
  {
   "metadata": {
    "ExecuteTime": {
     "end_time": "2025-05-15T12:54:42.856172Z",
     "start_time": "2025-05-15T12:54:41.806828Z"
    }
   },
   "cell_type": "code",
   "source": [
    "# Training and tracking\n",
    "\n",
    "with mlflow.start_run(experiment_id=experiment_id, run_name=\"Initial Toy Run\") as run:\n",
    "    run_id = run.info.run_id\n",
    "    print(f\"MLflow Run ID: {run_id}\")\n",
    "\n",
    "    params = {\n",
    "        'objective': 'binary:logistic',\n",
    "        'max_depth': 2,\n",
    "        'eta': 0.1,\n",
    "        'eval_metric': 'logloss',\n",
    "    }\n",
    "    num_boost_round = 20\n",
    "\n",
    "    print(\"Training model...\")\n",
    "    model = xgb.train(\n",
    "        params,\n",
    "        dtrain,\n",
    "        num_boost_round=num_boost_round,\n",
    "        evals=[(dtest, \"validation\")],\n",
    "        early_stopping_rounds=5,\n",
    "        verbose_eval=False\n",
    "    )\n",
    "    print(\"Model trained...\")\n",
    "\n",
    "    y_pred_proba = model.predict(dtest)\n",
    "    y_pred = (y_pred_proba > 0.5).astype(int)\n",
    "    accuracy = accuracy_score(y_test, y_pred)\n",
    "    print(f\"Accuracy: {accuracy:.4f}\")\n",
    "\n",
    "    mlflow.log_params(params)\n",
    "    mlflow.log_metric(\"accuracy\", accuracy)\n",
    "    mlflow.log_metric(\"num_boost_round\", num_boost_round)\n",
    "\n",
    "    print(\"Loogging the MLflow model...\")\n",
    "    from mlflow.models.signature import infer_signature\n",
    "\n",
    "    signature = infer_signature(X_test_df, pd.Series(y_pred_proba, name=\"prediction_score\"))\n",
    "\n",
    "\n",
    "    mlflow.xgboost.log_model(\n",
    "    xgb_model=model,\n",
    "    artifact_path=\"toy_xgboost_model\",\n",
    "    signature=signature,\n",
    "\n",
    "    registered_model_name=registered_model_name,\n",
    "    input_example=X_test_df.head(5),\n",
    "    pip_requirements=pip_reqs\n",
    "    )\n",
    "\n",
    "    print(f\"Model '{registered_model_name}' has been logged and registered.\")\n",
    "\n",
    "    model_artifact_uri_in_run = f\"runs:/{run_id}/toy_xgboost_model\"\n",
    "    print(f\"Model URI in the run: {model_artifact_uri_in_run}\")\n",
    "\n",
    "    client = mlflow.tracking.MlflowClient()\n",
    "    latest_version = client.get_latest_versions(registered_model_name, stages=[\"None\"])[0]\n",
    "    print(f\"Registered model: {registered_model_name}, Version: {latest_version.version}, Stage: {latest_version.current_stage}\")\n",
    "    print(f\"'models:/' URI: models:/{registered_model_name}/{latest_version.version}\")\n",
    "    print(f\"S3/MinIO source URI (approximate—verify in UI): {latest_version.source}/toy_xgboost_model\")\n",
    "\n",
    "\n"
   ],
   "id": "65df3d66cc9e3767",
   "outputs": [
    {
     "name": "stdout",
     "output_type": "stream",
     "text": [
      "MLflow Run ID: 76c20b9893544b7bb2a38e26cf3e20f7\n",
      "Training model...\n",
      "Model trained...\n",
      "Accuracy: 0.9000\n",
      "Loogging the MLflow model...\n"
     ]
    },
    {
     "name": "stderr",
     "output_type": "stream",
     "text": [
      "/Users/alvaro.calzado@feverup.com/personal/projects/mlflow-chart/benchmarks/.venv/lib/python3.11/site-packages/mlflow/xgboost/__init__.py:168: UserWarning: [14:54:41] WARNING: /Users/runner/work/xgboost/xgboost/src/c_api/c_api.cc:1427: Saving model in the UBJSON format as default.  You can use file extension: `json`, `ubj` or `deprecated` to choose between formats.\n",
      "  xgb_model.save_model(model_data_path)\n",
      "INFO:botocore.credentials:Found credentials in environment variables.\n",
      "Registered model 'xgboost-toy-classifier' already exists. Creating a new version of this model...\n",
      "2025/05/15 14:54:42 INFO mlflow.store.model_registry.abstract_store: Waiting up to 300 seconds for model version to finish creation. Model name: xgboost-toy-classifier, version 4\n"
     ]
    },
    {
     "name": "stdout",
     "output_type": "stream",
     "text": [
      "Model 'xgboost-toy-classifier' has been logged and registered.\n",
      "Model URI in the run: runs:/76c20b9893544b7bb2a38e26cf3e20f7/toy_xgboost_model\n",
      "Registered model: xgboost-toy-classifier, Version: 4, Stage: None\n",
      "'models:/' URI: models:/xgboost-toy-classifier/4\n",
      "S3/MinIO source URI (approximate—verify in UI): s3://mlflow-artifacts/1/76c20b9893544b7bb2a38e26cf3e20f7/artifacts/toy_xgboost_model/toy_xgboost_model\n",
      "🏃 View run Initial Toy Run at: http://localhost:5000/#/experiments/1/runs/76c20b9893544b7bb2a38e26cf3e20f7\n",
      "🧪 View experiment at: http://localhost:5000/#/experiments/1\n"
     ]
    },
    {
     "name": "stderr",
     "output_type": "stream",
     "text": [
      "Created version '4' of model 'xgboost-toy-classifier'.\n",
      "/var/folders/lw/fgbfn6k147s13smsyy856t4m0000gq/T/ipykernel_11270/2413215735.py:57: FutureWarning: ``mlflow.tracking.client.MlflowClient.get_latest_versions`` is deprecated since 2.9.0. Model registry stages will be removed in a future major release. To learn more about the deprecation of model registry stages, see our migration guide here: https://mlflow.org/docs/latest/model-registry.html#migrating-from-stages\n",
      "  latest_version = client.get_latest_versions(registered_model_name, stages=[\"None\"])[0]\n"
     ]
    }
   ],
   "execution_count": 3
  },
  {
   "metadata": {
    "ExecuteTime": {
     "end_time": "2025-05-15T12:54:42.895631Z",
     "start_time": "2025-05-15T12:54:42.866761Z"
    }
   },
   "cell_type": "code",
   "source": [
    "\n",
    "### Promote the model to Production\n",
    "\n",
    "client = mlflow.tracking.MlflowClient()\n",
    "model_version_to_promote = latest_version.version\n",
    "\n",
    "print(f\"\\nPromoting '{registered_model_name}' version {model_version_to_promote} to 'Production'...\")\n",
    "try:\n",
    "    client.transition_model_version_stage(\n",
    "        name=registered_model_name,\n",
    "        version=model_version_to_promote,\n",
    "        stage=\"Production\",\n",
    "        archive_existing_versions=True\n",
    "    )\n",
    "    print(\"Model successfully promoted to 'Production'.\")\n",
    "except Exception as e:\n",
    "    print(f\"Error promoting model: {e}\")\n",
    "    print(\"You may need to do this manually via the MLflow UI if there are conflicts or it’s already in Production.\")\n",
    "\n",
    "promoted_version_details = client.get_model_version(registered_model_name, model_version_to_promote)\n",
    "print(f\"Current stage of model '{registered_model_name}' v{promoted_version_details.version}: {promoted_version_details.current_stage}\")\n"
   ],
   "id": "74c2cefdd449bb45",
   "outputs": [
    {
     "name": "stdout",
     "output_type": "stream",
     "text": [
      "\n",
      "Promoting 'xgboost-toy-classifier' version 4 to 'Production'...\n",
      "Model successfully promoted to 'Production'.\n",
      "Current stage of model 'xgboost-toy-classifier' v4: Production\n"
     ]
    },
    {
     "name": "stderr",
     "output_type": "stream",
     "text": [
      "/var/folders/lw/fgbfn6k147s13smsyy856t4m0000gq/T/ipykernel_11270/1361921755.py:8: FutureWarning: ``mlflow.tracking.client.MlflowClient.transition_model_version_stage`` is deprecated since 2.9.0. Model registry stages will be removed in a future major release. To learn more about the deprecation of model registry stages, see our migration guide here: https://mlflow.org/docs/latest/model-registry.html#migrating-from-stages\n",
      "  client.transition_model_version_stage(\n"
     ]
    }
   ],
   "execution_count": 4
  },
  {
   "metadata": {
    "ExecuteTime": {
     "end_time": "2025-05-15T12:54:42.906681Z",
     "start_time": "2025-05-15T12:54:42.904838Z"
    }
   },
   "cell_type": "code",
   "source": [
    "# Check the model URI in the MLflow UI\n",
    "\n",
    "print(f\"\\n--- ACTION REQUIRED! ---\")\n",
    "print(f\"Go to the MLflow UI (http://localhost:5000) and locate Run ID: {run_id}\")\n",
    "print(\"Navigate to the artifacts and copy the full S3/MinIO URI for the 'toy_xgboost_model' folder.\")\n",
    "print(f\"Example: s3://mlflow-artifacts/{experiment_id}/{run_id}/artifacts/toy_xgboost_model\")\n",
    "print(\"You will need this URI for the `modelUri` field in your SeldonDeployment YAML.\")"
   ],
   "id": "5c0da54696aaf943",
   "outputs": [
    {
     "name": "stdout",
     "output_type": "stream",
     "text": [
      "\n",
      "--- ACTION REQUIRED! ---\n",
      "Go to the MLflow UI (http://localhost:5000) and locate Run ID: 76c20b9893544b7bb2a38e26cf3e20f7\n",
      "Navigate to the artifacts and copy the full S3/MinIO URI for the 'toy_xgboost_model' folder.\n",
      "Example: s3://mlflow-artifacts/1/76c20b9893544b7bb2a38e26cf3e20f7/artifacts/toy_xgboost_model\n",
      "You will need this URI for the `modelUri` field in your SeldonDeployment YAML.\n"
     ]
    }
   ],
   "execution_count": 5
  }
 ],
 "metadata": {
  "kernelspec": {
   "display_name": "Python 3",
   "language": "python",
   "name": "python3"
  },
  "language_info": {
   "codemirror_mode": {
    "name": "ipython",
    "version": 2
   },
   "file_extension": ".py",
   "mimetype": "text/x-python",
   "name": "python",
   "nbconvert_exporter": "python",
   "pygments_lexer": "ipython2",
   "version": "2.7.6"
  }
 },
 "nbformat": 4,
 "nbformat_minor": 5
}
